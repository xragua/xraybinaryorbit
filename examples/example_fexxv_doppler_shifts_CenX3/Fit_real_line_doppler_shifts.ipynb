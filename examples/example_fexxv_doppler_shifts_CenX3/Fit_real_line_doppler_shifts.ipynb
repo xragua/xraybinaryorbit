{
 "cells": [
  {
   "cell_type": "markdown",
   "id": "ede4b318-d5d4-408f-a6d6-804d9cb5d5db",
   "metadata": {},
   "source": [
    "## Doppler Shifts in Cen X-3 Chandra Observation\n",
    "\n",
    "Within a Cen X-3 Chandra observation, some very prominent Doppler shifts in the Fe xxv central energy were observed in phase resolved analysis.\n",
    "\n",
    "In this example, we will explore how these shifts are compatible with the emitting plasma's ballistic movement around the orbit.\n"
   ]
  },
  {
   "cell_type": "code",
   "execution_count": 1,
   "id": "8e1fcb0e-c49a-4b65-91d9-5bb34b79cc30",
   "metadata": {},
   "outputs": [
    {
     "name": "stdout",
     "output_type": "stream",
     "text": [
      "\n",
      "\n",
      "HELLO, nice to see you! :)\n",
      "\n",
      "PLEASE READ THIS, IT'S VERY IMPORTANT:\n",
      "\n",
      "These are the units that must be used within this package:\n",
      "\n",
      "- Rstar: Solar radius\n",
      "- Mstar: Solar masses\n",
      "- Inclination: Sexagesimal degrees\n",
      "- Periapsis: Sexagesimal degrees\n",
      "- Semimajor: Stellar radius\n",
      "- Periods: Days (Periods in the case of the period_sliding_window function will support any units)\n",
      "- Iphase: Radians\n",
      "\n",
      "A list of the functions contained in this package will be displayed by runing the function list_functions().\n",
      "\n",
      "As these functions use a lot of parameters, which can sometimes be difficult to handle, we have implemented a user-friendly method for parameter input:\n",
      "A form will be displayed, and the parameters will be saved in the directory for further interactions. These saved parameters will be used if new parameters are not provided.\n",
      "For the function to work, the submit button must be pressed.\n",
      "If the parameters are already saved within the working directory, setting \"load_directly=True\" no form will be displayed and that parameters will be used within the function.\n",
      "Alternatively, the input parameters or bounds can be provided as lists, by providing a \"parameter_list\" or \"bound_list\" as imputs.\n",
      "\n",
      "Please, take into account that fits in general will take A LOT of time to complete.\n",
      "\n",
      "If you need help, contact graciela.sanjurjo@ua.es.\n",
      "\n"
     ]
    },
    {
     "ename": "ImportError",
     "evalue": "cannot import name 'conic_orbit' from partially initialized module 'xraybinaryorbit.helpers.fit_helpers' (most likely due to a circular import) (/Users/graci/Desktop/git/xraybinaryorbit/xraybinaryorbit/helpers/fit_helpers.py)",
     "output_type": "error",
     "traceback": [
      "\u001b[0;31m---------------------------------------------------------------------------\u001b[0m",
      "\u001b[0;31mImportError\u001b[0m                               Traceback (most recent call last)",
      "Cell \u001b[0;32mIn[1], line 1\u001b[0m\n\u001b[0;32m----> 1\u001b[0m \u001b[38;5;28;01mimport\u001b[39;00m \u001b[38;5;21;01mxraybinaryorbit\u001b[39;00m\n\u001b[1;32m      2\u001b[0m \u001b[38;5;28;01mfrom\u001b[39;00m \u001b[38;5;21;01mxraybinaryorbit\u001b[39;00m \u001b[38;5;28;01mimport\u001b[39;00m \u001b[38;5;241m*\u001b[39m\n",
      "File \u001b[0;32m~/Desktop/git/xraybinaryorbit/xraybinaryorbit/__init__.py:4\u001b[0m\n\u001b[1;32m      1\u001b[0m \u001b[38;5;66;03m# __init__.py in xraybinaryorbit\u001b[39;00m\n\u001b[1;32m      2\u001b[0m \n\u001b[1;32m      3\u001b[0m \u001b[38;5;66;03m# Import submodules\u001b[39;00m\n\u001b[0;32m----> 4\u001b[0m \u001b[38;5;28;01mfrom\u001b[39;00m \u001b[38;5;21;01m.\u001b[39;00m\u001b[38;5;21;01mtiming\u001b[39;00m \u001b[38;5;28;01mimport\u001b[39;00m \u001b[38;5;241m*\u001b[39m\n\u001b[1;32m      5\u001b[0m \u001b[38;5;28;01mfrom\u001b[39;00m \u001b[38;5;21;01m.\u001b[39;00m\u001b[38;5;21;01mfitting\u001b[39;00m \u001b[38;5;28;01mimport\u001b[39;00m \u001b[38;5;241m*\u001b[39m\n\u001b[1;32m      6\u001b[0m \u001b[38;5;28;01mfrom\u001b[39;00m \u001b[38;5;21;01m.\u001b[39;00m\u001b[38;5;21;01mtheoretical\u001b[39;00m \u001b[38;5;28;01mimport\u001b[39;00m \u001b[38;5;241m*\u001b[39m\n",
      "File \u001b[0;32m~/Desktop/git/xraybinaryorbit/xraybinaryorbit/timing/__init__.py:2\u001b[0m\n\u001b[1;32m      1\u001b[0m \u001b[38;5;28;01mfrom\u001b[39;00m \u001b[38;5;21;01m.\u001b[39;00m\u001b[38;5;21;01m.\u001b[39;00m\u001b[38;5;21;01mmain\u001b[39;00m \u001b[38;5;28;01mimport\u001b[39;00m \u001b[38;5;241m*\u001b[39m\n\u001b[0;32m----> 2\u001b[0m \u001b[38;5;28;01mfrom\u001b[39;00m \u001b[38;5;21;01m.\u001b[39;00m\u001b[38;5;21;01mtiming_related\u001b[39;00m \u001b[38;5;28;01mimport\u001b[39;00m \u001b[38;5;241m*\u001b[39m\n",
      "File \u001b[0;32m~/Desktop/git/xraybinaryorbit/xraybinaryorbit/timing/timing_related.py:12\u001b[0m\n\u001b[1;32m      9\u001b[0m \u001b[38;5;28;01mfrom\u001b[39;00m \u001b[38;5;21;01mastropy\u001b[39;00m\u001b[38;5;21;01m.\u001b[39;00m\u001b[38;5;21;01mtimeseries\u001b[39;00m \u001b[38;5;28;01mimport\u001b[39;00m LombScargle\n\u001b[1;32m     10\u001b[0m \u001b[38;5;28;01mfrom\u001b[39;00m \u001b[38;5;21;01mscipy\u001b[39;00m\u001b[38;5;21;01m.\u001b[39;00m\u001b[38;5;21;01msignal\u001b[39;00m \u001b[38;5;28;01mimport\u001b[39;00m find_peaks, peak_widths\n\u001b[0;32m---> 12\u001b[0m \u001b[38;5;28;01mfrom\u001b[39;00m \u001b[38;5;21;01m.\u001b[39;00m\u001b[38;5;21;01m.\u001b[39;00m\u001b[38;5;21;01mhelpers\u001b[39;00m\u001b[38;5;21;01m.\u001b[39;00m\u001b[38;5;21;01mdata_helpers\u001b[39;00m \u001b[38;5;28;01mimport\u001b[39;00m _manage_parameters,_define_x_y_sy,_copy_fields, _load_values_to_interface, _manage_parameters,_load_bounds_to_interface, _manage_bounds\n\u001b[1;32m     14\u001b[0m \u001b[38;5;28;01mfrom\u001b[39;00m \u001b[38;5;21;01m.\u001b[39;00m\u001b[38;5;21;01m.\u001b[39;00m\u001b[38;5;21;01mhelpers\u001b[39;00m\u001b[38;5;21;01m.\u001b[39;00m\u001b[38;5;21;01mmath_helpers\u001b[39;00m \u001b[38;5;28;01mimport\u001b[39;00m _gaussian,_time_pairs,_interpolate_pchip,_chi_squared_weighted,_chi_squared,_orbital_phase_to_time,_orbital_time_to_phase,scale\n\u001b[1;32m     16\u001b[0m c \u001b[38;5;241m=\u001b[39m \u001b[38;5;241m299792458\u001b[39m\n",
      "File \u001b[0;32m~/Desktop/git/xraybinaryorbit/xraybinaryorbit/helpers/__init__.py:25\u001b[0m\n\u001b[1;32m     14\u001b[0m \u001b[38;5;66;03m# Import specific functions from math_helpers\u001b[39;00m\n\u001b[1;32m     15\u001b[0m \u001b[38;5;28;01mfrom\u001b[39;00m \u001b[38;5;21;01m.\u001b[39;00m\u001b[38;5;21;01mmath_helpers\u001b[39;00m \u001b[38;5;28;01mimport\u001b[39;00m (\n\u001b[1;32m     16\u001b[0m     _gaussian,\n\u001b[1;32m     17\u001b[0m     _time_pairs,\n\u001b[0;32m   (...)\u001b[0m\n\u001b[1;32m     22\u001b[0m     _orbital_time_to_phase\n\u001b[1;32m     23\u001b[0m )\n\u001b[0;32m---> 25\u001b[0m \u001b[38;5;28;01mfrom\u001b[39;00m \u001b[38;5;21;01m.\u001b[39;00m\u001b[38;5;21;01mfit_helpers\u001b[39;00m \u001b[38;5;28;01mimport\u001b[39;00m (\n\u001b[1;32m     26\u001b[0m     conic_orbit,\n\u001b[1;32m     27\u001b[0m     disc_in_orbit,\n\u001b[1;32m     28\u001b[0m     spiral,\n\u001b[1;32m     29\u001b[0m     spiral_orbit,\n\u001b[1;32m     30\u001b[0m     nh_orbit,\n\u001b[1;32m     31\u001b[0m     )\n\u001b[1;32m     33\u001b[0m \u001b[38;5;66;03m# Define __all__ to make these functions available for import\u001b[39;00m\n\u001b[1;32m     34\u001b[0m __all__ \u001b[38;5;241m=\u001b[39m [\n\u001b[1;32m     35\u001b[0m     \u001b[38;5;124m'\u001b[39m\u001b[38;5;124m_define_x_y_sy\u001b[39m\u001b[38;5;124m'\u001b[39m,\n\u001b[1;32m     36\u001b[0m     \u001b[38;5;124m'\u001b[39m\u001b[38;5;124m_copy_fields\u001b[39m\u001b[38;5;124m'\u001b[39m,\n\u001b[0;32m   (...)\u001b[0m\n\u001b[1;32m     52\u001b[0m     \u001b[38;5;124m'\u001b[39m\u001b[38;5;124mnh_orbit\u001b[39m\u001b[38;5;124m'\u001b[39m,\n\u001b[1;32m     53\u001b[0m ]\n",
      "File \u001b[0;32m~/Desktop/git/xraybinaryorbit/xraybinaryorbit/helpers/fit_helpers.py:25\u001b[0m\n\u001b[1;32m     21\u001b[0m \u001b[38;5;28;01mfrom\u001b[39;00m \u001b[38;5;21;01m.\u001b[39;00m\u001b[38;5;21;01m.\u001b[39;00m\u001b[38;5;21;01mhelpers\u001b[39;00m\u001b[38;5;21;01m.\u001b[39;00m\u001b[38;5;21;01mdata_helpers\u001b[39;00m \u001b[38;5;28;01mimport\u001b[39;00m _manage_parameters,_define_x_y_sy,_copy_fields, _load_values_to_interface, _manage_parameters,_load_bounds_to_interface, _manage_bounds\n\u001b[1;32m     23\u001b[0m \u001b[38;5;28;01mfrom\u001b[39;00m \u001b[38;5;21;01m.\u001b[39;00m\u001b[38;5;21;01m.\u001b[39;00m\u001b[38;5;21;01mhelpers\u001b[39;00m\u001b[38;5;21;01m.\u001b[39;00m\u001b[38;5;21;01mmath_helpers\u001b[39;00m \u001b[38;5;28;01mimport\u001b[39;00m _gaussian,_time_pairs,_interpolate_pchip,_chi_squared_weighted,_chi_squared,_orbital_phase_to_time,_orbital_time_to_phase\n\u001b[0;32m---> 25\u001b[0m \u001b[38;5;28;01mfrom\u001b[39;00m \u001b[38;5;21;01m.\u001b[39;00m\u001b[38;5;21;01m.\u001b[39;00m\u001b[38;5;21;01mhelpers\u001b[39;00m\u001b[38;5;21;01m.\u001b[39;00m\u001b[38;5;21;01mfit_helpers\u001b[39;00m \u001b[38;5;28;01mimport\u001b[39;00m  conic_orbit, disc_in_orbit, spiral, spiral_orbit, nh_orbit\n\u001b[1;32m     28\u001b[0m c \u001b[38;5;241m=\u001b[39m \u001b[38;5;241m299792458\u001b[39m\n\u001b[1;32m     30\u001b[0m msun \u001b[38;5;241m=\u001b[39m (\u001b[38;5;241m1.98847\u001b[39m\u001b[38;5;241m*\u001b[39m\u001b[38;5;241m10\u001b[39m\u001b[38;5;241m*\u001b[39m\u001b[38;5;241m*\u001b[39m\u001b[38;5;241m30\u001b[39m)\u001b[38;5;241m*\u001b[39m\u001b[38;5;241m1000\u001b[39m \u001b[38;5;66;03m#gr\u001b[39;00m\n",
      "\u001b[0;31mImportError\u001b[0m: cannot import name 'conic_orbit' from partially initialized module 'xraybinaryorbit.helpers.fit_helpers' (most likely due to a circular import) (/Users/graci/Desktop/git/xraybinaryorbit/xraybinaryorbit/helpers/fit_helpers.py)"
     ]
    }
   ],
   "source": [
    "import xraybinaryorbit\n",
    "from xraybinaryorbit import *"
   ]
  },
  {
   "cell_type": "code",
   "execution_count": null,
   "id": "b4a64904-66cb-484e-9755-69d085c8be46",
   "metadata": {},
   "outputs": [],
   "source": [
    "# REAL DATA\n",
    "\n",
    "# Known orbital phases for each time bin\n",
    "phase_array = np.array([0.21901885, 0.24120082, 0.2522918 , 0.26338279, 0.27447377,\n",
    "       0.28556475, 0.29665574, 0.30774672, 0.31883771, 0.32715595,\n",
    "       0.33270144, 0.33824693, 0.35488341, 0.3604289 , 0.36597439,\n",
    "       0.37706538, 0.38815636, 0.40479284, 0.41033833])\n",
    "\n",
    "# Time bins: The beguining and end are provided. \n",
    "x = np.array([[7.97000557e+08, 7.97002557e+08],\n",
    "       [7.97004557e+08, 7.97006557e+08],\n",
    "       [7.97006557e+08, 7.97008557e+08],\n",
    "       [7.97008557e+08, 7.97010557e+08],\n",
    "       [7.97010557e+08, 7.97012557e+08],\n",
    "       [7.97012557e+08, 7.97014557e+08],\n",
    "       [7.97014557e+08, 7.97016557e+08],\n",
    "       [7.97016557e+08, 7.97018557e+08],\n",
    "       [7.97018557e+08, 7.97020557e+08],\n",
    "       [7.97020557e+08, 7.97021557e+08],\n",
    "       [7.97021557e+08, 7.97022557e+08],\n",
    "       [7.97022557e+08, 7.97023557e+08],\n",
    "       [7.97025557e+08, 7.97026557e+08],\n",
    "       [7.97026557e+08, 7.97027557e+08],\n",
    "       [7.97027557e+08, 7.97028557e+08],\n",
    "       [7.97029557e+08, 7.97030557e+08],\n",
    "       [7.97031557e+08, 7.97032557e+08],\n",
    "       [7.97034557e+08, 7.97035557e+08],\n",
    "       [7.97035557e+08, 7.97036557e+08]])\n",
    "\n",
    "# Emission line evolution\n",
    "y = np.array([6.68379, 6.80991, 6.67892, 6.70604, 6.59522, 6.69305, 6.78357,\n",
    "       6.7602 , 6.71054, 6.59051, 6.58941, 6.6197 , 6.6798 , 6.73628,\n",
    "       6.72427, 6.70338, 6.81985, 6.60144, 6.60003])\n",
    "\n",
    "\n",
    "\n",
    "# Emission line evolution positive and negative errors\n",
    "y_err = np.array([[0.01962, 0.01599, 0.0353 , 0.02163, 0.01522, 0.02066, 0.01784,\n",
    "        0.0408 , 0.09066, 0.01051, 0.00941, 0.0344 , 0.0998 , 0.02562,\n",
    "        0.02753, 0.03273, 0.08475, 0.02144, 0.02003],\n",
    "       [0.09961, 0.01009, 0.04271, 0.02659, 0.12467, 0.01667, 0.03643,\n",
    "        0.03073, 0.03159, 0.02861, 0.01781, 0.04638, 0.09535, 0.0397 ,\n",
    "        0.03344, 0.10163, 0.00015, 0.06801, 0.04635]])\n",
    "\n"
   ]
  },
  {
   "cell_type": "markdown",
   "id": "0f1a9570-2514-4879-b2f6-afdd91e22ed7",
   "metadata": {},
   "source": [
    " In this observation, the Fe xxvi emission line energy exhibited remarkable Doppler shifts. In this example, we will utilize the fitting functions from the xraybinaryorb package to disentangle this intriguing behavior.\n",
    "\n",
    " The best model (phisical interpretation + results) was achieved with the fit_disc_ps function, i.e, this emitting plasma is likely orbiting around the compact object, traveling in its orbit."
   ]
  },
  {
   "cell_type": "code",
   "execution_count": null,
   "id": "c951e887-951d-4bc1-90f4-e84ac47def55",
   "metadata": {},
   "outputs": [],
   "source": [
    "plt.errorbar(phase_array,y, yerr =y_err,fmt=\"k\", alpha=0.5)\n",
    "plt.errorbar(phase_array,y,fmt=\"k\")\n",
    "plt.xlabel(\"Orbital phase\")\n",
    "plt.ylabel(\"Fe xxi energy evolution\")"
   ]
  },
  {
   "cell_type": "markdown",
   "id": "c4b4168a-3aa7-4302-a19a-2e5628ddd409",
   "metadata": {},
   "source": [
    "#### DISC IN ORBIT"
   ]
  },
  {
   "cell_type": "code",
   "execution_count": null,
   "id": "620006f9-5f17-4dca-ba94-3e4a1e15ece6",
   "metadata": {},
   "outputs": [],
   "source": [
    "lower_bound = [0.18,1.5,2.087,0.0,  0.0,   67.0,11.8,18.7, 1.33, 0.0,0.5,0.14,0.0, 0.0,  67.0,1e-60,6.63,0.0]\n",
    "upper_bound = [0.25,1.7,2.09, 1e-05,1e-70,76.7, 12.2,22.77,1.45,0.99,1.0,0.16,0.46,360.0,76.7,1e-22,6.7,1e-70]\n",
    "\n",
    "bound_disc= lower_bound, upper_bound\n",
    "\n",
    "result, phase, dphase, predicted_data, r_squared = fit_disc_ps(x, y, y_err=y_err, \n",
    "                                                               num_iterations=2, maxiter = 100, swarmsize = 10, \n",
    "                                                               units=\"keV\",method_=\"extended\",\n",
    "                                                               extended_binsize=0.01, bound_list=bound_disc)\n",
    "\n",
    "plt.plot(phase_array,  predicted_data,\"o:\")\n",
    "plt.errorbar(phase_array, y, yerr=y_err)\n",
    "plt.xlabel(\"Orbital phase\")\n",
    "plt.ylabel(\"Fe xvv Doppler shifts\")\n",
    "\n",
    "result"
   ]
  },
  {
   "cell_type": "code",
   "execution_count": null,
   "id": "3bcd92ae-5fe6-44c3-844c-b19162ba2afd",
   "metadata": {},
   "outputs": [],
   "source": [
    "lower_bound=  [0.18,1.5,2.087,0.0,  0.0,   67.0,11.8,18.7, 1.33, 0.0,0.5,0.14,0.0, 0.0,  67.0,1e-60,6.63,0.0]\n",
    "upper_bound=  [0.25,1.7,2.09, 1e-05,1e-70,76.7, 12.2,22.77,1.45,0.99,1.0,0.16,0.46,360.0,76.7,1e-22,6.7,1e-70]\n",
    "\n",
    "bound_disc= lower_bound, upper_bound\n",
    "\n",
    "result, phase, dphase, predicted_data, r_squared = fit_disc_ls(x, y, y_err=y_err,  \n",
    "                                                               units=\"keV\",method_=\"discrete\",\n",
    "                                                               extended_binsize=0.01, \n",
    "                                                               bound_list = bound_disc)\n",
    "\n",
    "\n",
    "plt.plot(phase_array,  predicted_data,\"o:\")\n",
    "plt.errorbar(phase_array, y, yerr=y_err)\n",
    "plt.xlabel(\"Orbital phase\")\n",
    "plt.ylabel(\"Fe xvv Doppler shifts\")\n",
    "\n",
    "\n",
    "result"
   ]
  },
  {
   "cell_type": "markdown",
   "id": "338a9048-c25c-4401-a8c7-1242bd7766c3",
   "metadata": {},
   "source": [
    "#### SIMPLE ORBIT"
   ]
  },
  {
   "cell_type": "code",
   "execution_count": null,
   "id": "c7d96e47-ffc8-4b27-936f-668d465505c2",
   "metadata": {},
   "outputs": [],
   "source": [
    "result, phase,  predicted_data, r_squared = fit_orbit_ps(x, y, y_err=y_err, \n",
    "                                                         num_iterations=2, maxiter = 100, swarmsize = 10, \n",
    "                                                         units=\"keV\",method_=\"extended\",\n",
    "                                                         extended_binsize=0.01, load_directly=False)\n",
    "\n",
    "plt.plot(phase_array,  predicted_data,\"o:\")\n",
    "plt.errorbar(phase_array, y, yerr=y_err)\n",
    "plt.xlabel(\"Orbital phase\")\n",
    "plt.ylabel(\"Fe xvv Doppler shifts\")\n",
    "\n",
    "result"
   ]
  },
  {
   "cell_type": "code",
   "execution_count": null,
   "id": "fb08b697-3a5f-45f9-a608-f7c86f0660fb",
   "metadata": {},
   "outputs": [],
   "source": [
    "result, phase, predicted_data, r_squared = fit_orbit_ls(x, y, y_err=y_err, \n",
    "                                                        units=\"keV\",method_=\"discrete\",\n",
    "                                                        extended_binsize=0.01, load_directly=True)\n",
    "\n",
    "plt.plot(phase_array,  predicted_data,\"o:\")\n",
    "plt.errorbar(phase_array, y, yerr=y_err)\n",
    "plt.xlabel(\"Orbital phase\")\n",
    "plt.ylabel(\"Fe xvv Doppler shifts\")\n",
    "\n",
    "result\n"
   ]
  },
  {
   "cell_type": "markdown",
   "id": "aa69d2a7-3f9b-4094-b64b-e02b3440414a",
   "metadata": {},
   "source": [
    "#### SIMPLE SPIRAL"
   ]
  },
  {
   "cell_type": "code",
   "execution_count": null,
   "id": "40c195ed-23a6-4b7d-b3ee-64a7cb44391e",
   "metadata": {},
   "outputs": [],
   "source": [
    "result, phase, predicted_data, r_squared = fit_spiral_ps(x, y, y_err=y_err, \n",
    "                                                         num_iterations=2, maxiter = 100, swarmsize = 10, \n",
    "                                                         units=\"keV\",method_=\"extended\",\n",
    "                                                         extended_binsize=0.01, load_directly=True)\n",
    "\n",
    "plt.plot(phase_array,  predicted_data,\"o:\")\n",
    "plt.errorbar(phase_array, y, yerr=y_err)\n",
    "plt.xlabel(\"Orbital phase\")\n",
    "plt.ylabel(\"Fe xvv Doppler shifts\")\n",
    "\n",
    "result"
   ]
  },
  {
   "cell_type": "code",
   "execution_count": null,
   "id": "4d0db7ff-0ea5-4b58-8e56-f2d09f830c30",
   "metadata": {},
   "outputs": [],
   "source": [
    "result, phase, predicted_data, r_squared = fit_spiral_ls(x, y, y_err=y_err, \n",
    "                                                         units=\"keV\",method_=\"discrete\",\n",
    "                                                         extended_binsize=0.01, load_directly=True)\n",
    "\n",
    "plt.plot(phase_array,  predicted_data,\"o:\")\n",
    "plt.errorbar(phase_array, y, yerr=y_err)\n",
    "plt.xlabel(\"Orbital phase\")\n",
    "plt.ylabel(\"Fe xvv Doppler shifts\")\n",
    "\n",
    "result"
   ]
  },
  {
   "cell_type": "markdown",
   "id": "7319f886-fca4-4d94-a581-53462f52a9b1",
   "metadata": {},
   "source": [
    "#### SPIRAL IN ORBIT"
   ]
  },
  {
   "cell_type": "code",
   "execution_count": null,
   "id": "1bca9841-f998-4f4e-b455-a3d465b8fe56",
   "metadata": {},
   "outputs": [],
   "source": [
    "result, phase,predicted_data, r_squared = fit_spiral_in_orbit_ps(x, y, y_err=y_err, \n",
    "                                                                          num_iterations=2, maxiter = 100, swarmsize = 10,  \n",
    "                                                                          units=\"keV\",method_=\"extended\",\n",
    "                                                                          extended_binsize=0.01, load_directly=False)\n",
    "\n",
    "plt.plot(phase_array,  predicted_data,\"o:\")\n",
    "plt.errorbar(phase_array, y, yerr=y_err)\n",
    "plt.xlabel(\"Orbital phase\")\n",
    "plt.ylabel(\"Fe xvv Doppler shifts\")\n",
    "\n",
    "result"
   ]
  },
  {
   "cell_type": "code",
   "execution_count": null,
   "id": "5f2c4241-e7a4-4036-99c0-40a66ac81023",
   "metadata": {},
   "outputs": [],
   "source": [
    "result, phase, predicted_data, r_squared = fit_spiral_in_orbit_ls(x, y, y_err=y_err, \n",
    "                                                                          units=\"keV\",method_=\"discrete\",\n",
    "                                                                          extended_binsize=0.01, load_directly=True)\n",
    "\n",
    "\n",
    "plt.plot(phase_array,  predicted_data,\"o:\")\n",
    "plt.errorbar(phase_array, y, yerr=y_err)\n",
    "plt.xlabel(\"Orbital phase\")\n",
    "plt.ylabel(\"Fe xvv Doppler shifts\")\n",
    "\n",
    "result"
   ]
  },
  {
   "cell_type": "code",
   "execution_count": null,
   "id": "004b58cf-3c35-4bff-a0cb-78427f5df76e",
   "metadata": {},
   "outputs": [],
   "source": []
  },
  {
   "cell_type": "code",
   "execution_count": null,
   "id": "acc546f9-b10e-4175-a60a-1797f8b6f387",
   "metadata": {},
   "outputs": [],
   "source": []
  }
 ],
 "metadata": {
  "kernelspec": {
   "display_name": "Python 3 (ipykernel)",
   "language": "python",
   "name": "python3"
  },
  "language_info": {
   "codemirror_mode": {
    "name": "ipython",
    "version": 3
   },
   "file_extension": ".py",
   "mimetype": "text/x-python",
   "name": "python",
   "nbconvert_exporter": "python",
   "pygments_lexer": "ipython3",
   "version": "3.10.9"
  }
 },
 "nbformat": 4,
 "nbformat_minor": 5
}
